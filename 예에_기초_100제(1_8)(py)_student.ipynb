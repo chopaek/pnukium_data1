{
  "nbformat": 4,
  "nbformat_minor": 0,
  "metadata": {
    "colab": {
      "provenance": [],
      "toc_visible": true
    },
    "kernelspec": {
      "name": "python3",
      "display_name": "Python 3"
    }
  },
  "cells": [
    {
      "cell_type": "markdown",
      "metadata": {
        "id": "v4sFDDlCeYCA"
      },
      "source": [
        "# 6001 : [기초-출력] 출력하기01(설명)(py)"
      ]
    },
    {
      "cell_type": "code",
      "metadata": {
        "id": "Qkjq0vR8eWsA",
        "colab": {
          "base_uri": "https://localhost:8080/"
        },
        "outputId": "511f14cc-23a8-473a-8b86-f8bdb2d97f8f"
      },
      "source": [
        "print('Hello')"
      ],
      "execution_count": null,
      "outputs": [
        {
          "output_type": "stream",
          "name": "stdout",
          "text": [
            "Hello\n"
          ]
        }
      ]
    },
    {
      "cell_type": "markdown",
      "metadata": {
        "id": "tkcOJckBfLx2"
      },
      "source": [
        "# 6002 : [기초-출력] 출력하기02(설명)(py)"
      ]
    },
    {
      "cell_type": "code",
      "metadata": {
        "id": "bbbe3g44fUBa",
        "colab": {
          "base_uri": "https://localhost:8080/"
        },
        "outputId": "22f6de81-66d7-452e-dfec-ad69232646bb"
      },
      "source": [
        "print('Hello world')"
      ],
      "execution_count": null,
      "outputs": [
        {
          "output_type": "stream",
          "name": "stdout",
          "text": [
            "Hello world\n"
          ]
        }
      ]
    },
    {
      "cell_type": "markdown",
      "metadata": {
        "id": "fLYo7wwSfX0X"
      },
      "source": [
        "# 6003 : [기초-출력] 출력하기03(설명)(py)"
      ]
    },
    {
      "cell_type": "code",
      "metadata": {
        "id": "ZqlEUPoSfa2Q",
        "colab": {
          "base_uri": "https://localhost:8080/"
        },
        "outputId": "df0a08df-f9f3-4931-9c64-0d0d033f1496"
      },
      "source": [
        "print('Heiio')\n",
        "print('woeld')"
      ],
      "execution_count": null,
      "outputs": [
        {
          "output_type": "stream",
          "name": "stdout",
          "text": [
            "Heiio\n",
            "woeld\n"
          ]
        }
      ]
    },
    {
      "cell_type": "markdown",
      "metadata": {
        "id": "6nRMalqYfd7r"
      },
      "source": [
        "# 6004 : [기초-출력] 출력하기04(설명)(py)"
      ]
    },
    {
      "cell_type": "code",
      "metadata": {
        "id": "c1p3NzyofjkR",
        "colab": {
          "base_uri": "https://localhost:8080/"
        },
        "outputId": "84aeac5f-a5c2-4f52-9036-16a3bfb4f9dd"
      },
      "source": [
        "print(\"Hello\")"
      ],
      "execution_count": null,
      "outputs": [
        {
          "output_type": "stream",
          "name": "stdout",
          "text": [
            "Hello\n"
          ]
        }
      ]
    },
    {
      "cell_type": "markdown",
      "metadata": {
        "id": "7GuAFt2rfmfV"
      },
      "source": [
        "# 6005 : [기초-출력] 출력하기05(설명)(py)"
      ]
    },
    {
      "cell_type": "code",
      "metadata": {
        "id": "E1NRFlGHfsVo",
        "colab": {
          "base_uri": "https://localhost:8080/"
        },
        "outputId": "2893dc3a-8d9a-4e5f-f2ab-0c4d4c708ecb"
      },
      "source": [
        "print(\"Hello World\")"
      ],
      "execution_count": null,
      "outputs": [
        {
          "output_type": "stream",
          "name": "stdout",
          "text": [
            "Hello World\n"
          ]
        }
      ]
    },
    {
      "cell_type": "markdown",
      "metadata": {
        "id": "h2c_JjORfvX5"
      },
      "source": [
        "# 6006 : [기초-출력] 출력하기06(py)"
      ]
    },
    {
      "cell_type": "code",
      "metadata": {
        "id": "GmGRxgZLfzcU",
        "colab": {
          "base_uri": "https://localhost:8080/"
        },
        "outputId": "c4ddad60-4e5d-474d-a569-1e90d6ef49f0"
      },
      "source": [
        "print(\"!@#$%^&*()\")"
      ],
      "execution_count": null,
      "outputs": [
        {
          "output_type": "stream",
          "name": "stdout",
          "text": [
            "!@#$%^&*()\n"
          ]
        }
      ]
    },
    {
      "cell_type": "markdown",
      "metadata": {
        "id": "__YvsVxbf4aT"
      },
      "source": [
        "# 6007 : [기초-출력] 출력하기07(py)"
      ]
    },
    {
      "cell_type": "code",
      "metadata": {
        "id": "I0Px58Rrf6AK",
        "colab": {
          "base_uri": "https://localhost:8080/"
        },
        "outputId": "294a00e8-2a09-42bc-e2fe-6a553d76af50"
      },
      "source": [
        "print(\"C:\\Download\\'hello'.py\")"
      ],
      "execution_count": null,
      "outputs": [
        {
          "output_type": "stream",
          "name": "stdout",
          "text": [
            "C:\\Download'hello'.py\n"
          ]
        }
      ]
    },
    {
      "cell_type": "markdown",
      "metadata": {
        "id": "WmTwy_AKf9Dj"
      },
      "source": [
        "# 6008 : [기초-출력] 출력하기08(py)"
      ]
    },
    {
      "cell_type": "code",
      "metadata": {
        "id": "1reBjRnNf_7m",
        "colab": {
          "base_uri": "https://localhost:8080/"
        },
        "outputId": "ea26d02f-abda-41a6-806c-532ac09116a9"
      },
      "source": [
        "print('print(\"Hello\\nWorld\")')\n"
      ],
      "execution_count": null,
      "outputs": [
        {
          "output_type": "stream",
          "name": "stdout",
          "text": [
            "print(\"Hello\n",
            "World\")\n"
          ]
        }
      ]
    },
    {
      "cell_type": "code",
      "source": [],
      "metadata": {
        "id": "Dt9QThmXmNDQ"
      },
      "execution_count": null,
      "outputs": []
    }
  ]
}