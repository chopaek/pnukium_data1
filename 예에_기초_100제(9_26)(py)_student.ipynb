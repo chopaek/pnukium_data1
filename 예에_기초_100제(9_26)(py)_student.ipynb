{
  "nbformat": 4,
  "nbformat_minor": 0,
  "metadata": {
    "colab": {
      "provenance": [],
      "toc_visible": true
    },
    "kernelspec": {
      "name": "python3",
      "display_name": "Python 3"
    }
  },
  "cells": [
    {
      "cell_type": "markdown",
      "metadata": {
        "id": "lF1bOoQFuduK"
      },
      "source": [
        "# 6009 : [기초-입출력] 문자 1개 입력받아 그대로 출력하기(설명)(py)"
      ]
    },
    {
      "cell_type": "code",
      "metadata": {
        "id": "cT401Km4utBC",
        "colab": {
          "base_uri": "https://localhost:8080/"
        },
        "outputId": "0d462196-0d66-45ad-9916-5fc01fab0fb6"
      },
      "source": [
        "1"
      ],
      "execution_count": null,
      "outputs": [
        {
          "output_type": "execute_result",
          "data": {
            "text/plain": [
              "1"
            ]
          },
          "metadata": {},
          "execution_count": 5
        }
      ]
    },
    {
      "cell_type": "markdown",
      "metadata": {
        "id": "t5bmFHCMmpAR"
      },
      "source": [
        "# 6010 : [기초-입출력] 정수 1개 입력받아 int로 변환하여 출력하기(설명)(py)"
      ]
    },
    {
      "cell_type": "code",
      "metadata": {
        "id": "v23OJ_uQmfpa",
        "colab": {
          "base_uri": "https://localhost:8080/"
        },
        "outputId": "57caae23-c401-4da2-efb6-f8020da60ae0"
      },
      "source": [
        "int('10')"
      ],
      "execution_count": null,
      "outputs": [
        {
          "output_type": "execute_result",
          "data": {
            "text/plain": [
              "10"
            ]
          },
          "metadata": {},
          "execution_count": 6
        }
      ]
    },
    {
      "cell_type": "markdown",
      "metadata": {
        "id": "r4b2LiREm8UP"
      },
      "source": [
        "# 6011 : [기초-입출력] 실수 1개 입력받아 변환하여 출력하기(설명)(py)"
      ]
    },
    {
      "cell_type": "code",
      "metadata": {
        "id": "iEWYiib6nBdC",
        "colab": {
          "base_uri": "https://localhost:8080/"
        },
        "outputId": "42b5e7a5-24f5-41b3-adc5-6b7e1e24e3eb"
      },
      "source": [
        "int('9')"
      ],
      "execution_count": null,
      "outputs": [
        {
          "output_type": "execute_result",
          "data": {
            "text/plain": [
              "9"
            ]
          },
          "metadata": {},
          "execution_count": 7
        }
      ]
    },
    {
      "cell_type": "markdown",
      "metadata": {
        "id": "S96P8demnSMA"
      },
      "source": [
        "# 6012 : [기초-입출력] 정수 2개 입력받아 그대로 출력하기1(설명)(py)"
      ]
    },
    {
      "cell_type": "code",
      "metadata": {
        "id": "mXDHp0N6nXZR",
        "colab": {
          "base_uri": "https://localhost:8080/"
        },
        "outputId": "5399a545-ace4-4015-a709-04e58e93e1b8"
      },
      "source": [
        "int('10')\n",
        "int('10')"
      ],
      "execution_count": null,
      "outputs": [
        {
          "output_type": "execute_result",
          "data": {
            "text/plain": [
              "10"
            ]
          },
          "metadata": {},
          "execution_count": 8
        }
      ]
    },
    {
      "cell_type": "markdown",
      "metadata": {
        "id": "U02tSzPVneag"
      },
      "source": [
        "# 6013 : [기초-입출력] 문자 2개 입력받아 순서 바꿔 출력하기1(py)"
      ]
    },
    {
      "cell_type": "code",
      "metadata": {
        "id": "zUNShlyUnjli",
        "colab": {
          "base_uri": "https://localhost:8080/"
        },
        "outputId": "11260b5a-248d-4461-ed1e-44d5bb44a203"
      },
      "source": [
        "int('10')"
      ],
      "execution_count": null,
      "outputs": [
        {
          "output_type": "execute_result",
          "data": {
            "text/plain": [
              "10"
            ]
          },
          "metadata": {},
          "execution_count": 10
        }
      ]
    },
    {
      "cell_type": "markdown",
      "metadata": {
        "id": "jyHZ8rsSnp2I"
      },
      "source": [
        "# 6014 : [기초-입출력] 실수 1개 입력받아 3번 출력하기(py)"
      ]
    },
    {
      "cell_type": "code",
      "metadata": {
        "id": "TQpHdxPmnuA0"
      },
      "source": [
        "\n",
        "\n",
        "print(float(a))\n",
        "print(float(a))\n",
        "print(float(a))"
      ],
      "execution_count": null,
      "outputs": []
    },
    {
      "cell_type": "markdown",
      "metadata": {
        "id": "EDyqb1l9oWug"
      },
      "source": [
        "# 6015 : [기초-입출력] 정수 2개 입력받아 그대로 출력하기2(설명)(py)"
      ]
    },
    {
      "cell_type": "code",
      "metadata": {
        "id": "r4it7ZihobDw",
        "colab": {
          "base_uri": "https://localhost:8080/"
        },
        "outputId": "d7789d7c-a7e2-499d-c3c7-66bcf074656f"
      },
      "source": [
        "print(31)"
      ],
      "execution_count": null,
      "outputs": [
        {
          "output_type": "stream",
          "name": "stdout",
          "text": [
            "31\n"
          ]
        }
      ]
    },
    {
      "cell_type": "markdown",
      "metadata": {
        "id": "b4n0SilcogRa"
      },
      "source": [
        "# 6016 : [기초-입출력] 문자 2개 입력받아 순서 바꿔 출력하기2(설명)(py)"
      ]
    },
    {
      "cell_type": "code",
      "metadata": {
        "id": "lDNooofnOG0H",
        "colab": {
          "base_uri": "https://localhost:8080/"
        },
        "outputId": "66856fd6-c391-401e-e03f-d7512f87f1f2"
      },
      "source": [
        "print('32')"
      ],
      "execution_count": null,
      "outputs": [
        {
          "output_type": "stream",
          "name": "stdout",
          "text": [
            "32\n"
          ]
        }
      ]
    },
    {
      "cell_type": "markdown",
      "metadata": {
        "id": "-u-AanDAOOvH"
      },
      "source": [
        "# 6017 : [기초-입출력] 문장 1개 입력받아 3번 출력하기(설명)(py)"
      ]
    },
    {
      "cell_type": "code",
      "source": [
        "x=1\n",
        "print(x)\n",
        "print(x)\n",
        "print(x)"
      ],
      "metadata": {
        "id": "Bn9uoJYVmarg",
        "colab": {
          "base_uri": "https://localhost:8080/"
        },
        "outputId": "5771b4f8-c746-47a0-a6ee-1c675002b0e9"
      },
      "execution_count": null,
      "outputs": [
        {
          "output_type": "stream",
          "name": "stdout",
          "text": [
            "1\n",
            "1\n",
            "1\n"
          ]
        }
      ]
    },
    {
      "cell_type": "code",
      "metadata": {
        "id": "9NkKXZNDOShe"
      },
      "source": [],
      "execution_count": null,
      "outputs": []
    },
    {
      "cell_type": "markdown",
      "metadata": {
        "id": "H9xgj_kwOdoA"
      },
      "source": [
        "# 6018 : [기초-입출력] 시간 입력받아 그대로 출력하기(설명)(py)"
      ]
    },
    {
      "cell_type": "code",
      "metadata": {
        "id": "AH4pjiguOig9",
        "colab": {
          "base_uri": "https://localhost:8080/"
        },
        "outputId": "a9aa1aa2-4c29-4bf7-c40d-7f974fe9307c"
      },
      "source": [
        "print\n",
        "(2142142141241\n",
        "\n",
        "\n",
        "\n",
        "\n",
        "\n",
        "\n",
        "\n",
        "\n",
        "\n",
        "\n",
        "\n",
        "\n",
        "\n",
        "\n",
        "     )"
      ],
      "execution_count": null,
      "outputs": [
        {
          "output_type": "execute_result",
          "data": {
            "text/plain": [
              "2142142141241"
            ]
          },
          "metadata": {},
          "execution_count": 2
        }
      ]
    },
    {
      "cell_type": "markdown",
      "metadata": {
        "id": "JYS-3BetOp-P"
      },
      "source": [
        "# 6019 : [기초-입출력] 연월일 입력받아 순서 바꿔 출력하기(py)"
      ]
    },
    {
      "cell_type": "code",
      "metadata": {
        "id": "bZwa_6C-OxOb"
      },
      "source": [],
      "execution_count": null,
      "outputs": []
    },
    {
      "cell_type": "markdown",
      "metadata": {
        "id": "iow67t1RO9bQ"
      },
      "source": [
        "# 6020 : [기초-입출력] 주민번호 입력받아 형태 바꿔 출력하기(py)"
      ]
    },
    {
      "cell_type": "code",
      "metadata": {
        "id": "og2alovePAbY"
      },
      "source": [],
      "execution_count": null,
      "outputs": []
    },
    {
      "cell_type": "markdown",
      "metadata": {
        "id": "31aUaTxpPHYk"
      },
      "source": [
        "# 6021 : [기초-입출력] 단어 1개 입력받아 나누어 출력하기(설명)(py)"
      ]
    },
    {
      "cell_type": "code",
      "metadata": {
        "id": "MOJzcNqBPNP3"
      },
      "source": [],
      "execution_count": null,
      "outputs": []
    },
    {
      "cell_type": "markdown",
      "metadata": {
        "id": "C8G5yO9xPT2G"
      },
      "source": [
        "# 6022 : [기초-입출력] 연월일 입력받아 나누어 출력하기(설명)(py)"
      ]
    },
    {
      "cell_type": "code",
      "metadata": {
        "id": "Q4IymnKzPnnO"
      },
      "source": [],
      "execution_count": null,
      "outputs": []
    },
    {
      "cell_type": "markdown",
      "metadata": {
        "id": "fxYpTjerPxKh"
      },
      "source": [
        "# 6023 : [기초-입출력] 시분초 입력받아 분만 출력하기(py)"
      ]
    },
    {
      "cell_type": "code",
      "metadata": {
        "id": "opg9Yu3yPyqd"
      },
      "source": [],
      "execution_count": null,
      "outputs": []
    },
    {
      "cell_type": "markdown",
      "metadata": {
        "id": "jU_1Dhl4P9JL"
      },
      "source": [
        "# 6024 : [기초-입출력] 단어 2개 입력받아 이어 붙이기(설명)(py)"
      ]
    },
    {
      "cell_type": "code",
      "metadata": {
        "id": "uLnCyb1pP-nF"
      },
      "source": [
        "\n"
      ],
      "execution_count": null,
      "outputs": []
    },
    {
      "cell_type": "markdown",
      "metadata": {
        "id": "oPC81MQEQEZT"
      },
      "source": [
        "# 6025 : [기초-값변환] 정수 2개 입력받아 합 계산하기(설명)(py)"
      ]
    },
    {
      "cell_type": "code",
      "metadata": {
        "id": "9avPZNCNQI1b"
      },
      "source": [],
      "execution_count": null,
      "outputs": []
    },
    {
      "cell_type": "markdown",
      "metadata": {
        "id": "VFpax3TaQU3K"
      },
      "source": [
        "# 6026 : [기초-값변환] 실수 2개 입력받아 합 계산하기(설명)(py)"
      ]
    },
    {
      "cell_type": "code",
      "metadata": {
        "id": "6_1MOyWzQb-t"
      },
      "source": [],
      "execution_count": null,
      "outputs": []
    }
  ]
}